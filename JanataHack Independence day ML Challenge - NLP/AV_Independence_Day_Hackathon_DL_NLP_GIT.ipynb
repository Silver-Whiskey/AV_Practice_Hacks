{
  "nbformat": 4,
  "nbformat_minor": 0,
  "metadata": {
    "colab": {
      "name": "AV_Independence_Day_Hackathon_DL_NLP.ipynb",
      "provenance": []
    },
    "kernelspec": {
      "name": "python3",
      "display_name": "Python 3"
    },
    "accelerator": "GPU"
  },
  "cells": [
    {
      "cell_type": "markdown",
      "metadata": {
        "id": "kp-v9DbXVrku",
        "colab_type": "text"
      },
      "source": [
        "**NOTE: This is not an exact solution, it shall be updated soon**"
      ]
    },
    {
      "cell_type": "code",
      "metadata": {
        "id": "iLorqbDlWNQE",
        "colab_type": "code",
        "colab": {}
      },
      "source": [
        "import pandas as pd\n",
        "import numpy as np\n",
        "import matplotlib.pyplot as plt"
      ],
      "execution_count": null,
      "outputs": []
    },
    {
      "cell_type": "code",
      "metadata": {
        "id": "HcOw8GKE1uIq",
        "colab_type": "code",
        "colab": {}
      },
      "source": [
        "import tensorflow as tf\n",
        "\n",
        "from tensorflow.keras.preprocessing.text import Tokenizer\n",
        "from tensorflow.keras.preprocessing.sequence import pad_sequences"
      ],
      "execution_count": null,
      "outputs": []
    },
    {
      "cell_type": "code",
      "metadata": {
        "id": "OF9bHb89ccw-",
        "colab_type": "code",
        "colab": {}
      },
      "source": [
        "train_df = pd.read_csv('/content/drive/My Drive/AV Independance day Hackathon/train_tGmol3O/train.csv')\n",
        "test_df = pd.read_csv('/content/drive/My Drive/AV Independance day Hackathon/test_8iecVfC/test.csv')"
      ],
      "execution_count": null,
      "outputs": []
    },
    {
      "cell_type": "code",
      "metadata": {
        "id": "yZOL2quZHmLT",
        "colab_type": "code",
        "colab": {}
      },
      "source": [
        "train_df_copy = train_df\n",
        "train_df_copy['String']= train_df_copy[\"TITLE\"].str.cat(train_df_copy['ABSTRACT'], sep =\" using \")\n",
        "test_df_copy = test_df\n",
        "test_df_copy['String']= test_df_copy[\"TITLE\"].str.cat(test_df_copy['ABSTRACT'], sep =\" using \")"
      ],
      "execution_count": null,
      "outputs": []
    },
    {
      "cell_type": "code",
      "metadata": {
        "id": "sxIrltCUHq1v",
        "colab_type": "code",
        "colab": {}
      },
      "source": [
        "train_sentences = train_df_copy['String']\n",
        "test_sentences = test_df_copy['String']\n",
        "Comp_Sci = train_df_copy['Computer Science']\n",
        "Physics = train_df_copy['Physics']\n",
        "Maths = train_df_copy['Mathematics']\n",
        "Stats = train_df_copy['Statistics']\n",
        "Quant_Bio = train_df_copy['Quantitative Biology']\n",
        "Quant_Fin = train_df_copy['Quantitative Finance']"
      ],
      "execution_count": null,
      "outputs": []
    },
    {
      "cell_type": "code",
      "metadata": {
        "id": "ZIK1nlNc2Gan",
        "colab_type": "code",
        "colab": {}
      },
      "source": [
        "train_sentences = train_sentences.tolist()\n",
        "test_sentences = test_sentences.tolist()\n",
        "Comp_Sci = Comp_Sci.tolist()\n",
        "Physics = Physics.tolist()\n",
        "Maths = Maths.tolist()\n",
        "Stats = Stats.to_list()\n",
        "Quant_Bio = Quant_Bio.tolist()\n",
        "Quant_Fin = Quant_Fin.tolist()"
      ],
      "execution_count": null,
      "outputs": []
    },
    {
      "cell_type": "code",
      "metadata": {
        "id": "nmatPupUcggO",
        "colab_type": "code",
        "colab": {}
      },
      "source": [
        "training_size = int(len(train_sentences) * 0.1)\n",
        "\n",
        "train_sentences = train_sentences[0:training_size]\n",
        "valid_sentences = train_sentences[training_size:]\n",
        "\n",
        "training_Comp_Sci = Comp_Sci[0:training_size]\n",
        "valid_Comp_Sci = Comp_Sci[training_size:]\n",
        "\n",
        "training_Physics = Physics[0:training_size]\n",
        "valid_Physics = Physics[training_size:]\n",
        "\n",
        "training_Maths = Maths[0:training_size]\n",
        "valid_Maths = Maths[training_size:]\n",
        "\n",
        "training_Stats = Stats[0:training_size]\n",
        "valid_Stats = Stats[training_size:]\n",
        "\n",
        "training_Quant_Bio = Quant_Bio[0:training_size]\n",
        "valid_Quant_Bio = Quant_Bio[training_size:]\n",
        "\n",
        "training_Quant_Fin = Quant_Fin[0:training_size]\n",
        "valid_Quant_Fin = Quant_Fin[training_size:]\n",
        "\n",
        "# Make labels into numpy arrays for use with the network later\n",
        "train_Comp_Sci = np.array(training_Comp_Sci)\n",
        "train_Physics = np.array(training_Physics)\n",
        "train_Maths = np.array(training_Maths)\n",
        "train_Stats = np.array(training_Stats)\n",
        "train_Quant_Bio = np.array(training_Quant_Bio)\n",
        "train_Quant_Fin = np.array(training_Quant_Fin)\n",
        "\n",
        "valid_Comp_Sci = np.array(valid_Comp_Sci)\n",
        "valid_Physics = np.array(valid_Physics)\n",
        "valid_Maths = np.array(valid_Maths)\n",
        "valid_Stats = np.array(valid_Stats)\n",
        "valid_Quant_Bio = np.array(valid_Quant_Bio)\n",
        "valid_Quant_Fin = np.array(valid_Quant_Fin)"
      ],
      "execution_count": null,
      "outputs": []
    },
    {
      "cell_type": "code",
      "metadata": {
        "id": "6QFoR_SddQVf",
        "colab_type": "code",
        "colab": {}
      },
      "source": [
        "vocab_size = 5000\n",
        "embedding_dim = 32\n",
        "max_length = 200\n",
        "trunc_type='post'\n",
        "padding_type='post'\n",
        "oov_tok = \"<OOV>\"\n",
        "\n",
        "\n",
        "from tensorflow.keras.preprocessing.text import Tokenizer\n",
        "from tensorflow.keras.preprocessing.sequence import pad_sequences\n",
        "\n",
        "tokenizer = Tokenizer(num_words = vocab_size, oov_token=oov_tok)\n",
        "tokenizer.fit_on_texts(train_sentences)\n",
        "word_index = tokenizer.word_index\n",
        "train_sequences = tokenizer.texts_to_sequences(train_sentences)\n",
        "train_padded = pad_sequences(train_sequences,maxlen=max_length, padding=padding_type, \n",
        "                             truncating=trunc_type)\n",
        "\n",
        "valid_sequences = tokenizer.texts_to_sequences(valid_sentences)\n",
        "valid_padded = pad_sequences(valid_sequences,maxlen=max_length, \n",
        "                               padding=padding_type, truncating=trunc_type)\n",
        "\n",
        "test_sequences = tokenizer.texts_to_sequences(test_sentences)\n",
        "test_padded = pad_sequences(test_sequences,maxlen=max_length, \n",
        "                            padding=padding_type, truncating=trunc_type)"
      ],
      "execution_count": null,
      "outputs": []
    },
    {
      "cell_type": "code",
      "metadata": {
        "id": "u0vv7VtD2X3W",
        "colab_type": "code",
        "colab": {
          "base_uri": "https://localhost:8080/",
          "height": 190
        },
        "outputId": "718749dd-d081-409b-9c20-3b5b4b6a2717"
      },
      "source": [
        "reverse_word_index = dict([(value, key) for (key, value) in word_index.items()])\n",
        "\n",
        "def decode_review(text):\n",
        "    return ' '.join([reverse_word_index.get(i, '?') for i in text])\n",
        "\n",
        "print(decode_review(train_padded[1]))\n",
        "print(train_sentences[1])"
      ],
      "execution_count": null,
      "outputs": [
        {
          "output_type": "stream",
          "text": [
            "rotation invariance neural network using rotation invariance and translation invariance have great values in image recognition tasks in this paper we bring a new architecture in convolutional neural network cnn named cyclic convolutional layer to achieve rotation invariance in 2 d symbol recognition we can also get the position and orientation of the 2 d symbol by the network to achieve detection purpose for multiple non overlap target last but not least this architecture can achieve one shot learning in some cases using those invariance ? ? ? ? ? ? ? ? ? ? ? ? ? ? ? ? ? ? ? ? ? ? ? ? ? ? ? ? ? ? ? ? ? ? ? ? ? ? ? ? ? ? ? ? ? ? ? ? ? ? ? ? ? ? ? ? ? ? ? ? ? ? ? ? ? ? ? ? ? ? ? ? ? ? ? ? ? ? ? ? ? ? ? ? ? ? ? ? ? ? ? ? ? ? ? ? ? ? ? ? ? ? ? ? ? ? ? ? ? ? ? ? ? ? ?\n",
            "Rotation Invariance Neural Network using   Rotation invariance and translation invariance have great values in image\n",
            "recognition tasks. In this paper, we bring a new architecture in convolutional\n",
            "neural network (CNN) named cyclic convolutional layer to achieve rotation\n",
            "invariance in 2-D symbol recognition. We can also get the position and\n",
            "orientation of the 2-D symbol by the network to achieve detection purpose for\n",
            "multiple non-overlap target. Last but not least, this architecture can achieve\n",
            "one-shot learning in some cases using those invariance.\n",
            "\n"
          ],
          "name": "stdout"
        }
      ]
    },
    {
      "cell_type": "code",
      "metadata": {
        "id": "ajT2F4ea2iq_",
        "colab_type": "code",
        "colab": {
          "base_uri": "https://localhost:8080/",
          "height": 323
        },
        "outputId": "428010d6-8f4a-4777-deb7-44e891ac4026"
      },
      "source": [
        "# Build a basic sentiment network\n",
        "# Note the embedding layer is first, \n",
        "# and the output is only 1 node as it is either 0 or 1 (negative or positive)\n",
        "\n",
        "model = tf.keras.Sequential([\n",
        "    tf.keras.layers.Embedding(vocab_size, embedding_dim, input_length=max_length),\n",
        "    tf.keras.layers.Bidirectional(tf.keras.layers.LSTM(embedding_dim, \n",
        "                                                       return_sequences=True)),\n",
        "    tf.keras.layers.Bidirectional(tf.keras.layers.LSTM(embedding_dim,\n",
        "                                                        return_sequences=True)),\n",
        "    tf.keras.layers.Bidirectional(tf.keras.layers.LSTM(embedding_dim)),\n",
        "    tf.keras.layers.Dense(1, activation='sigmoid')\n",
        "])\n",
        "model.compile(loss='binary_crossentropy',optimizer=tf.keras.optimizers.Adam(0.0001),metrics=['accuracy'])\n",
        "model.summary()"
      ],
      "execution_count": null,
      "outputs": [
        {
          "output_type": "stream",
          "text": [
            "Model: \"sequential\"\n",
            "_________________________________________________________________\n",
            "Layer (type)                 Output Shape              Param #   \n",
            "=================================================================\n",
            "embedding (Embedding)        (None, 200, 32)           160000    \n",
            "_________________________________________________________________\n",
            "bidirectional (Bidirectional (None, 200, 64)           16640     \n",
            "_________________________________________________________________\n",
            "bidirectional_1 (Bidirection (None, 200, 64)           24832     \n",
            "_________________________________________________________________\n",
            "bidirectional_2 (Bidirection (None, 64)                24832     \n",
            "_________________________________________________________________\n",
            "dense (Dense)                (None, 1)                 65        \n",
            "=================================================================\n",
            "Total params: 226,369\n",
            "Trainable params: 226,369\n",
            "Non-trainable params: 0\n",
            "_________________________________________________________________\n"
          ],
          "name": "stdout"
        }
      ]
    },
    {
      "cell_type": "code",
      "metadata": {
        "id": "zPoLPa0ShoE_",
        "colab_type": "code",
        "colab": {}
      },
      "source": [
        "def predict_review(model, test_padded):\n",
        "  preds = model.predict(test_padded)\n",
        "  return preds"
      ],
      "execution_count": null,
      "outputs": []
    },
    {
      "cell_type": "code",
      "metadata": {
        "id": "tEsLwFUAhfZV",
        "colab_type": "code",
        "colab": {}
      },
      "source": [
        "def fit_model_and_show_results (Model, Train_padded,Training_labels_final,Num_epochs,Test_padded,Validation_padded,Validation_labels_final):\n",
        "    Model.summary()\n",
        "    Model.fit(x=Train_padded, y=Training_labels_final, epochs=Num_epochs, \n",
        "              validation_data=(Validation_padded, Validation_labels_final))\n",
        "    preds = predict_review(Model,test_padded)\n",
        "    return preds"
      ],
      "execution_count": null,
      "outputs": []
    },
    {
      "cell_type": "code",
      "metadata": {
        "id": "f7D5vCBY2msG",
        "colab_type": "code",
        "colab": {
          "base_uri": "https://localhost:8080/",
          "height": 1000
        },
        "outputId": "af2e4357-6e3c-427d-c9f7-b2fa967773f6"
      },
      "source": [
        "num_epochs = 20\n",
        "preds_Comp_Sci = fit_model_and_show_results(Model=model,Train_padded=train_padded,train_Comp_Sci, num_epochs,test_padded,valid_padded,valid_Comp_Sci)"
      ],
      "execution_count": null,
      "outputs": [
        {
          "output_type": "stream",
          "text": [
            "Model: \"sequential_1\"\n",
            "_________________________________________________________________\n",
            "Layer (type)                 Output Shape              Param #   \n",
            "=================================================================\n",
            "embedding_1 (Embedding)      (None, 400, 64)           640000    \n",
            "_________________________________________________________________\n",
            "bidirectional_3 (Bidirection (None, 400, 128)          66048     \n",
            "_________________________________________________________________\n",
            "bidirectional_4 (Bidirection (None, 400, 128)          98816     \n",
            "_________________________________________________________________\n",
            "bidirectional_5 (Bidirection (None, 128)               98816     \n",
            "_________________________________________________________________\n",
            "dense_1 (Dense)              (None, 1)                 129       \n",
            "=================================================================\n",
            "Total params: 903,809\n",
            "Trainable params: 903,809\n",
            "Non-trainable params: 0\n",
            "_________________________________________________________________\n",
            "Epoch 1/20\n",
            "66/66 [==============================] - ETA: 0s - loss: 0.6583 - accuracy: 0.5908"
          ],
          "name": "stdout"
        },
        {
          "output_type": "error",
          "ename": "ValueError",
          "evalue": "ignored",
          "traceback": [
            "\u001b[0;31m---------------------------------------------------------------------------\u001b[0m",
            "\u001b[0;31mValueError\u001b[0m                                Traceback (most recent call last)",
            "\u001b[0;32m<ipython-input-28-0f517a1558ae>\u001b[0m in \u001b[0;36m<module>\u001b[0;34m()\u001b[0m\n\u001b[1;32m      1\u001b[0m \u001b[0mnum_epochs\u001b[0m \u001b[0;34m=\u001b[0m \u001b[0;36m20\u001b[0m\u001b[0;34m\u001b[0m\u001b[0;34m\u001b[0m\u001b[0m\n\u001b[0;32m----> 2\u001b[0;31m \u001b[0mpreds_Comp_Sci\u001b[0m \u001b[0;34m=\u001b[0m \u001b[0mfit_model_and_show_results\u001b[0m\u001b[0;34m(\u001b[0m\u001b[0mmodel\u001b[0m\u001b[0;34m,\u001b[0m\u001b[0mtrain_padded\u001b[0m\u001b[0;34m,\u001b[0m \u001b[0mtrain_Comp_Sci\u001b[0m\u001b[0;34m,\u001b[0m \u001b[0mnum_epochs\u001b[0m\u001b[0;34m,\u001b[0m\u001b[0mtest_padded\u001b[0m\u001b[0;34m,\u001b[0m\u001b[0mvalid_padded\u001b[0m\u001b[0;34m,\u001b[0m\u001b[0mvalid_Comp_Sci\u001b[0m\u001b[0;34m)\u001b[0m\u001b[0;34m\u001b[0m\u001b[0;34m\u001b[0m\u001b[0m\n\u001b[0m",
            "\u001b[0;32m<ipython-input-27-d806020aeb8f>\u001b[0m in \u001b[0;36mfit_model_and_show_results\u001b[0;34m(model, train_padded, training_labels_final, num_epochs, test_padded, validation_padded, validation_labels_final)\u001b[0m\n\u001b[1;32m      2\u001b[0m     \u001b[0mmodel\u001b[0m\u001b[0;34m.\u001b[0m\u001b[0msummary\u001b[0m\u001b[0;34m(\u001b[0m\u001b[0;34m)\u001b[0m\u001b[0;34m\u001b[0m\u001b[0;34m\u001b[0m\u001b[0m\n\u001b[1;32m      3\u001b[0m     model.fit(train_padded, training_labels_final, epochs=num_epochs, \n\u001b[0;32m----> 4\u001b[0;31m               validation_data=(validation_padded, validation_labels_final))\n\u001b[0m\u001b[1;32m      5\u001b[0m     \u001b[0mpreds\u001b[0m \u001b[0;34m=\u001b[0m \u001b[0mpredict_review\u001b[0m\u001b[0;34m(\u001b[0m\u001b[0mmodel\u001b[0m\u001b[0;34m,\u001b[0m\u001b[0mtest_padded\u001b[0m\u001b[0;34m)\u001b[0m\u001b[0;34m\u001b[0m\u001b[0;34m\u001b[0m\u001b[0m\n\u001b[1;32m      6\u001b[0m     \u001b[0;32mreturn\u001b[0m \u001b[0mpreds\u001b[0m\u001b[0;34m\u001b[0m\u001b[0;34m\u001b[0m\u001b[0m\n",
            "\u001b[0;32m/usr/local/lib/python3.6/dist-packages/tensorflow/python/keras/engine/training.py\u001b[0m in \u001b[0;36m_method_wrapper\u001b[0;34m(self, *args, **kwargs)\u001b[0m\n\u001b[1;32m    106\u001b[0m   \u001b[0;32mdef\u001b[0m \u001b[0m_method_wrapper\u001b[0m\u001b[0;34m(\u001b[0m\u001b[0mself\u001b[0m\u001b[0;34m,\u001b[0m \u001b[0;34m*\u001b[0m\u001b[0margs\u001b[0m\u001b[0;34m,\u001b[0m \u001b[0;34m**\u001b[0m\u001b[0mkwargs\u001b[0m\u001b[0;34m)\u001b[0m\u001b[0;34m:\u001b[0m\u001b[0;34m\u001b[0m\u001b[0;34m\u001b[0m\u001b[0m\n\u001b[1;32m    107\u001b[0m     \u001b[0;32mif\u001b[0m \u001b[0;32mnot\u001b[0m \u001b[0mself\u001b[0m\u001b[0;34m.\u001b[0m\u001b[0m_in_multi_worker_mode\u001b[0m\u001b[0;34m(\u001b[0m\u001b[0;34m)\u001b[0m\u001b[0;34m:\u001b[0m  \u001b[0;31m# pylint: disable=protected-access\u001b[0m\u001b[0;34m\u001b[0m\u001b[0;34m\u001b[0m\u001b[0m\n\u001b[0;32m--> 108\u001b[0;31m       \u001b[0;32mreturn\u001b[0m \u001b[0mmethod\u001b[0m\u001b[0;34m(\u001b[0m\u001b[0mself\u001b[0m\u001b[0;34m,\u001b[0m \u001b[0;34m*\u001b[0m\u001b[0margs\u001b[0m\u001b[0;34m,\u001b[0m \u001b[0;34m**\u001b[0m\u001b[0mkwargs\u001b[0m\u001b[0;34m)\u001b[0m\u001b[0;34m\u001b[0m\u001b[0;34m\u001b[0m\u001b[0m\n\u001b[0m\u001b[1;32m    109\u001b[0m \u001b[0;34m\u001b[0m\u001b[0m\n\u001b[1;32m    110\u001b[0m     \u001b[0;31m# Running inside `run_distribute_coordinator` already.\u001b[0m\u001b[0;34m\u001b[0m\u001b[0;34m\u001b[0m\u001b[0;34m\u001b[0m\u001b[0m\n",
            "\u001b[0;32m/usr/local/lib/python3.6/dist-packages/tensorflow/python/keras/engine/training.py\u001b[0m in \u001b[0;36mfit\u001b[0;34m(self, x, y, batch_size, epochs, verbose, callbacks, validation_split, validation_data, shuffle, class_weight, sample_weight, initial_epoch, steps_per_epoch, validation_steps, validation_batch_size, validation_freq, max_queue_size, workers, use_multiprocessing)\u001b[0m\n\u001b[1;32m   1120\u001b[0m                 \u001b[0muse_multiprocessing\u001b[0m\u001b[0;34m=\u001b[0m\u001b[0muse_multiprocessing\u001b[0m\u001b[0;34m,\u001b[0m\u001b[0;34m\u001b[0m\u001b[0;34m\u001b[0m\u001b[0m\n\u001b[1;32m   1121\u001b[0m                 \u001b[0mmodel\u001b[0m\u001b[0;34m=\u001b[0m\u001b[0mself\u001b[0m\u001b[0;34m,\u001b[0m\u001b[0;34m\u001b[0m\u001b[0;34m\u001b[0m\u001b[0m\n\u001b[0;32m-> 1122\u001b[0;31m                 steps_per_execution=self._steps_per_execution)\n\u001b[0m\u001b[1;32m   1123\u001b[0m           val_logs = self.evaluate(\n\u001b[1;32m   1124\u001b[0m               \u001b[0mx\u001b[0m\u001b[0;34m=\u001b[0m\u001b[0mval_x\u001b[0m\u001b[0;34m,\u001b[0m\u001b[0;34m\u001b[0m\u001b[0;34m\u001b[0m\u001b[0m\n",
            "\u001b[0;32m/usr/local/lib/python3.6/dist-packages/tensorflow/python/keras/engine/data_adapter.py\u001b[0m in \u001b[0;36m__init__\u001b[0;34m(self, x, y, sample_weight, batch_size, steps_per_epoch, initial_epoch, epochs, shuffle, class_weight, max_queue_size, workers, use_multiprocessing, model, steps_per_execution)\u001b[0m\n\u001b[1;32m   1115\u001b[0m         \u001b[0muse_multiprocessing\u001b[0m\u001b[0;34m=\u001b[0m\u001b[0muse_multiprocessing\u001b[0m\u001b[0;34m,\u001b[0m\u001b[0;34m\u001b[0m\u001b[0;34m\u001b[0m\u001b[0m\n\u001b[1;32m   1116\u001b[0m         \u001b[0mdistribution_strategy\u001b[0m\u001b[0;34m=\u001b[0m\u001b[0mds_context\u001b[0m\u001b[0;34m.\u001b[0m\u001b[0mget_strategy\u001b[0m\u001b[0;34m(\u001b[0m\u001b[0;34m)\u001b[0m\u001b[0;34m,\u001b[0m\u001b[0;34m\u001b[0m\u001b[0;34m\u001b[0m\u001b[0m\n\u001b[0;32m-> 1117\u001b[0;31m         model=model)\n\u001b[0m\u001b[1;32m   1118\u001b[0m \u001b[0;34m\u001b[0m\u001b[0m\n\u001b[1;32m   1119\u001b[0m     \u001b[0mstrategy\u001b[0m \u001b[0;34m=\u001b[0m \u001b[0mds_context\u001b[0m\u001b[0;34m.\u001b[0m\u001b[0mget_strategy\u001b[0m\u001b[0;34m(\u001b[0m\u001b[0;34m)\u001b[0m\u001b[0;34m\u001b[0m\u001b[0;34m\u001b[0m\u001b[0m\n",
            "\u001b[0;32m/usr/local/lib/python3.6/dist-packages/tensorflow/python/keras/engine/data_adapter.py\u001b[0m in \u001b[0;36m__init__\u001b[0;34m(self, x, y, sample_weights, sample_weight_modes, batch_size, epochs, steps, shuffle, **kwargs)\u001b[0m\n\u001b[1;32m    280\u001b[0m             label, \", \".join(str(i.shape[0]) for i in nest.flatten(data)))\n\u001b[1;32m    281\u001b[0m       \u001b[0mmsg\u001b[0m \u001b[0;34m+=\u001b[0m \u001b[0;34m\"Please provide data which shares the same first dimension.\"\u001b[0m\u001b[0;34m\u001b[0m\u001b[0;34m\u001b[0m\u001b[0m\n\u001b[0;32m--> 282\u001b[0;31m       \u001b[0;32mraise\u001b[0m \u001b[0mValueError\u001b[0m\u001b[0;34m(\u001b[0m\u001b[0mmsg\u001b[0m\u001b[0;34m)\u001b[0m\u001b[0;34m\u001b[0m\u001b[0;34m\u001b[0m\u001b[0m\n\u001b[0m\u001b[1;32m    283\u001b[0m     \u001b[0mnum_samples\u001b[0m \u001b[0;34m=\u001b[0m \u001b[0mnum_samples\u001b[0m\u001b[0;34m.\u001b[0m\u001b[0mpop\u001b[0m\u001b[0;34m(\u001b[0m\u001b[0;34m)\u001b[0m\u001b[0;34m\u001b[0m\u001b[0;34m\u001b[0m\u001b[0m\n\u001b[1;32m    284\u001b[0m \u001b[0;34m\u001b[0m\u001b[0m\n",
            "\u001b[0;31mValueError\u001b[0m: Data cardinality is ambiguous:\n  x sizes: 0\n  y sizes: 18875\nPlease provide data which shares the same first dimension."
          ]
        }
      ]
    },
    {
      "cell_type": "code",
      "metadata": {
        "id": "7o8OyNG44ctB",
        "colab_type": "code",
        "colab": {
          "base_uri": "https://localhost:8080/",
          "height": 663
        },
        "outputId": "aadc65ac-dba3-43c9-8ff7-941b42499743"
      },
      "source": [
        "preds_Physics = fit_model_and_show_results(model,train_padded, train_Physics, num_epochs,test_padded)"
      ],
      "execution_count": null,
      "outputs": [
        {
          "output_type": "stream",
          "text": [
            "Model: \"sequential\"\n",
            "_________________________________________________________________\n",
            "Layer (type)                 Output Shape              Param #   \n",
            "=================================================================\n",
            "embedding (Embedding)        (None, 150, 16)           80000     \n",
            "_________________________________________________________________\n",
            "bidirectional (Bidirectional (None, 150, 32)           4224      \n",
            "_________________________________________________________________\n",
            "bidirectional_1 (Bidirection (None, 150, 32)           6272      \n",
            "_________________________________________________________________\n",
            "bidirectional_2 (Bidirection (None, 32)                6272      \n",
            "_________________________________________________________________\n",
            "dense (Dense)                (None, 1)                 33        \n",
            "=================================================================\n",
            "Total params: 96,801\n",
            "Trainable params: 96,801\n",
            "Non-trainable params: 0\n",
            "_________________________________________________________________\n",
            "Epoch 1/10\n",
            "656/656 [==============================] - 21s 32ms/step - loss: 0.6748 - accuracy: 0.6580\n",
            "Epoch 2/10\n",
            "656/656 [==============================] - 21s 32ms/step - loss: 0.3751 - accuracy: 0.8432\n",
            "Epoch 3/10\n",
            "656/656 [==============================] - 22s 33ms/step - loss: 0.2500 - accuracy: 0.9111\n",
            "Epoch 4/10\n",
            "656/656 [==============================] - 21s 32ms/step - loss: 0.2034 - accuracy: 0.9317\n",
            "Epoch 5/10\n",
            "656/656 [==============================] - 21s 32ms/step - loss: 0.1780 - accuracy: 0.9411\n",
            "Epoch 6/10\n",
            "656/656 [==============================] - 21s 32ms/step - loss: 0.1596 - accuracy: 0.9468\n",
            "Epoch 7/10\n",
            "656/656 [==============================] - 21s 32ms/step - loss: 0.1443 - accuracy: 0.9532\n",
            "Epoch 8/10\n",
            "656/656 [==============================] - 22s 33ms/step - loss: 0.1311 - accuracy: 0.9582\n",
            "Epoch 9/10\n",
            "656/656 [==============================] - 21s 33ms/step - loss: 0.1212 - accuracy: 0.9616\n",
            "Epoch 10/10\n",
            "656/656 [==============================] - 22s 33ms/step - loss: 0.1090 - accuracy: 0.9675\n"
          ],
          "name": "stdout"
        }
      ]
    },
    {
      "cell_type": "code",
      "metadata": {
        "id": "UiPoRnKb4dNG",
        "colab_type": "code",
        "colab": {
          "base_uri": "https://localhost:8080/",
          "height": 663
        },
        "outputId": "d1c4b809-1e9a-4427-8aaf-755861dfe2b8"
      },
      "source": [
        "preds_Maths = fit_model_and_show_results(model,train_padded, train_Maths, num_epochs,test_padded)"
      ],
      "execution_count": null,
      "outputs": [
        {
          "output_type": "stream",
          "text": [
            "Model: \"sequential\"\n",
            "_________________________________________________________________\n",
            "Layer (type)                 Output Shape              Param #   \n",
            "=================================================================\n",
            "embedding (Embedding)        (None, 150, 16)           80000     \n",
            "_________________________________________________________________\n",
            "bidirectional (Bidirectional (None, 150, 32)           4224      \n",
            "_________________________________________________________________\n",
            "bidirectional_1 (Bidirection (None, 150, 32)           6272      \n",
            "_________________________________________________________________\n",
            "bidirectional_2 (Bidirection (None, 32)                6272      \n",
            "_________________________________________________________________\n",
            "dense (Dense)                (None, 1)                 33        \n",
            "=================================================================\n",
            "Total params: 96,801\n",
            "Trainable params: 96,801\n",
            "Non-trainable params: 0\n",
            "_________________________________________________________________\n",
            "Epoch 1/10\n",
            "656/656 [==============================] - 22s 33ms/step - loss: 0.5964 - accuracy: 0.7238\n",
            "Epoch 2/10\n",
            "656/656 [==============================] - 22s 33ms/step - loss: 0.5153 - accuracy: 0.7712\n",
            "Epoch 3/10\n",
            "656/656 [==============================] - 21s 32ms/step - loss: 0.4830 - accuracy: 0.7781\n",
            "Epoch 4/10\n",
            "656/656 [==============================] - 22s 33ms/step - loss: 0.3107 - accuracy: 0.8771\n",
            "Epoch 5/10\n",
            "656/656 [==============================] - 21s 32ms/step - loss: 0.2446 - accuracy: 0.9052\n",
            "Epoch 6/10\n",
            "656/656 [==============================] - 21s 33ms/step - loss: 0.2158 - accuracy: 0.9146\n",
            "Epoch 7/10\n",
            "656/656 [==============================] - 22s 33ms/step - loss: 0.1928 - accuracy: 0.9218\n",
            "Epoch 8/10\n",
            "656/656 [==============================] - 22s 33ms/step - loss: 0.1760 - accuracy: 0.9297\n",
            "Epoch 9/10\n",
            "656/656 [==============================] - 22s 33ms/step - loss: 0.1621 - accuracy: 0.9351\n",
            "Epoch 10/10\n",
            "656/656 [==============================] - 21s 32ms/step - loss: 0.1501 - accuracy: 0.9394\n"
          ],
          "name": "stdout"
        }
      ]
    },
    {
      "cell_type": "code",
      "metadata": {
        "id": "VqKxV3Ha4dk0",
        "colab_type": "code",
        "colab": {
          "base_uri": "https://localhost:8080/",
          "height": 663
        },
        "outputId": "eab5c13a-df7e-4b86-e50a-b77c0dc73544"
      },
      "source": [
        "preds_Stats = fit_model_and_show_results(model,train_padded, train_Stats, num_epochs,test_padded)"
      ],
      "execution_count": null,
      "outputs": [
        {
          "output_type": "stream",
          "text": [
            "Model: \"sequential\"\n",
            "_________________________________________________________________\n",
            "Layer (type)                 Output Shape              Param #   \n",
            "=================================================================\n",
            "embedding (Embedding)        (None, 150, 16)           80000     \n",
            "_________________________________________________________________\n",
            "bidirectional (Bidirectional (None, 150, 32)           4224      \n",
            "_________________________________________________________________\n",
            "bidirectional_1 (Bidirection (None, 150, 32)           6272      \n",
            "_________________________________________________________________\n",
            "bidirectional_2 (Bidirection (None, 32)                6272      \n",
            "_________________________________________________________________\n",
            "dense (Dense)                (None, 1)                 33        \n",
            "=================================================================\n",
            "Total params: 96,801\n",
            "Trainable params: 96,801\n",
            "Non-trainable params: 0\n",
            "_________________________________________________________________\n",
            "Epoch 1/10\n",
            "656/656 [==============================] - 21s 32ms/step - loss: 0.5085 - accuracy: 0.7387\n",
            "Epoch 2/10\n",
            "656/656 [==============================] - 22s 33ms/step - loss: 0.3691 - accuracy: 0.8179\n",
            "Epoch 3/10\n",
            "656/656 [==============================] - 21s 32ms/step - loss: 0.3004 - accuracy: 0.8645\n",
            "Epoch 4/10\n",
            "656/656 [==============================] - 21s 33ms/step - loss: 0.2618 - accuracy: 0.8871\n",
            "Epoch 5/10\n",
            "656/656 [==============================] - 22s 33ms/step - loss: 0.2389 - accuracy: 0.8995\n",
            "Epoch 6/10\n",
            "656/656 [==============================] - 21s 32ms/step - loss: 0.2192 - accuracy: 0.9097\n",
            "Epoch 7/10\n",
            "656/656 [==============================] - 21s 33ms/step - loss: 0.2013 - accuracy: 0.9207\n",
            "Epoch 8/10\n",
            "656/656 [==============================] - 22s 33ms/step - loss: 0.1849 - accuracy: 0.9274\n",
            "Epoch 9/10\n",
            "656/656 [==============================] - 21s 32ms/step - loss: 0.1716 - accuracy: 0.9340\n",
            "Epoch 10/10\n",
            "656/656 [==============================] - 21s 32ms/step - loss: 0.1594 - accuracy: 0.9405\n"
          ],
          "name": "stdout"
        }
      ]
    },
    {
      "cell_type": "code",
      "metadata": {
        "id": "OIMGn6Rm4lX_",
        "colab_type": "code",
        "colab": {
          "base_uri": "https://localhost:8080/",
          "height": 663
        },
        "outputId": "f789cd01-2600-4439-f270-552160b5aae2"
      },
      "source": [
        "preds_Quant_Bio = fit_model_and_show_results(model,train_padded, train_Quant_Bio, num_epochs,test_padded)"
      ],
      "execution_count": null,
      "outputs": [
        {
          "output_type": "stream",
          "text": [
            "Model: \"sequential\"\n",
            "_________________________________________________________________\n",
            "Layer (type)                 Output Shape              Param #   \n",
            "=================================================================\n",
            "embedding (Embedding)        (None, 150, 16)           80000     \n",
            "_________________________________________________________________\n",
            "bidirectional (Bidirectional (None, 150, 32)           4224      \n",
            "_________________________________________________________________\n",
            "bidirectional_1 (Bidirection (None, 150, 32)           6272      \n",
            "_________________________________________________________________\n",
            "bidirectional_2 (Bidirection (None, 32)                6272      \n",
            "_________________________________________________________________\n",
            "dense (Dense)                (None, 1)                 33        \n",
            "=================================================================\n",
            "Total params: 96,801\n",
            "Trainable params: 96,801\n",
            "Non-trainable params: 0\n",
            "_________________________________________________________________\n",
            "Epoch 1/10\n",
            "656/656 [==============================] - 22s 33ms/step - loss: 0.1328 - accuracy: 0.9679\n",
            "Epoch 2/10\n",
            "656/656 [==============================] - 21s 32ms/step - loss: 0.1193 - accuracy: 0.9720\n",
            "Epoch 3/10\n",
            "656/656 [==============================] - 21s 33ms/step - loss: 0.1172 - accuracy: 0.9720\n",
            "Epoch 4/10\n",
            "656/656 [==============================] - 21s 33ms/step - loss: 0.1154 - accuracy: 0.9720\n",
            "Epoch 5/10\n",
            "656/656 [==============================] - 21s 33ms/step - loss: 0.1143 - accuracy: 0.9720\n",
            "Epoch 6/10\n",
            "656/656 [==============================] - 21s 33ms/step - loss: 0.1125 - accuracy: 0.9720\n",
            "Epoch 7/10\n",
            "656/656 [==============================] - 22s 33ms/step - loss: 0.1075 - accuracy: 0.9720\n",
            "Epoch 8/10\n",
            "656/656 [==============================] - 22s 33ms/step - loss: 0.0962 - accuracy: 0.9720\n",
            "Epoch 9/10\n",
            "656/656 [==============================] - 21s 32ms/step - loss: 0.0771 - accuracy: 0.9729\n",
            "Epoch 10/10\n",
            "656/656 [==============================] - 21s 32ms/step - loss: 0.0594 - accuracy: 0.9794\n"
          ],
          "name": "stdout"
        }
      ]
    },
    {
      "cell_type": "code",
      "metadata": {
        "id": "0zU1w1po4lPG",
        "colab_type": "code",
        "colab": {
          "base_uri": "https://localhost:8080/",
          "height": 663
        },
        "outputId": "1e939390-acec-40fe-b06c-afc26098b5d5"
      },
      "source": [
        "preds_Quant_Fin = fit_model_and_show_results(model,train_padded, train_Quant_Fin, num_epochs,test_padded)"
      ],
      "execution_count": null,
      "outputs": [
        {
          "output_type": "stream",
          "text": [
            "Model: \"sequential\"\n",
            "_________________________________________________________________\n",
            "Layer (type)                 Output Shape              Param #   \n",
            "=================================================================\n",
            "embedding (Embedding)        (None, 150, 16)           80000     \n",
            "_________________________________________________________________\n",
            "bidirectional (Bidirectional (None, 150, 32)           4224      \n",
            "_________________________________________________________________\n",
            "bidirectional_1 (Bidirection (None, 150, 32)           6272      \n",
            "_________________________________________________________________\n",
            "bidirectional_2 (Bidirection (None, 32)                6272      \n",
            "_________________________________________________________________\n",
            "dense (Dense)                (None, 1)                 33        \n",
            "=================================================================\n",
            "Total params: 96,801\n",
            "Trainable params: 96,801\n",
            "Non-trainable params: 0\n",
            "_________________________________________________________________\n",
            "Epoch 1/10\n",
            "656/656 [==============================] - 22s 33ms/step - loss: 0.0627 - accuracy: 0.9876\n",
            "Epoch 2/10\n",
            "656/656 [==============================] - 21s 33ms/step - loss: 0.0577 - accuracy: 0.9881\n",
            "Epoch 3/10\n",
            "656/656 [==============================] - 21s 33ms/step - loss: 0.0539 - accuracy: 0.9880\n",
            "Epoch 4/10\n",
            "656/656 [==============================] - 21s 33ms/step - loss: 0.0454 - accuracy: 0.9881\n",
            "Epoch 5/10\n",
            "656/656 [==============================] - 21s 32ms/step - loss: 0.0366 - accuracy: 0.9881\n",
            "Epoch 6/10\n",
            "656/656 [==============================] - 22s 33ms/step - loss: 0.0261 - accuracy: 0.9908\n",
            "Epoch 7/10\n",
            "656/656 [==============================] - 22s 33ms/step - loss: 0.0166 - accuracy: 0.9951\n",
            "Epoch 8/10\n",
            "656/656 [==============================] - 22s 33ms/step - loss: 0.0113 - accuracy: 0.9973\n",
            "Epoch 9/10\n",
            "656/656 [==============================] - 21s 32ms/step - loss: 0.0078 - accuracy: 0.9985\n",
            "Epoch 10/10\n",
            "656/656 [==============================] - 21s 32ms/step - loss: 0.0064 - accuracy: 0.9988\n"
          ],
          "name": "stdout"
        }
      ]
    },
    {
      "cell_type": "code",
      "metadata": {
        "id": "ub6iIWUwETv2",
        "colab_type": "code",
        "colab": {}
      },
      "source": [
        "preds_Comp_Sci_copy = preds_Comp_Sci\n",
        "preds_Physics_copy = preds_Physics\n",
        "preds_Mathscopy = preds_Maths\n",
        "preds_Stats_copy = preds_Stats\n",
        "preds_Quant_Bio_copy = preds_Quant_Bio\n",
        "preds_Quant_Fin_copy = preds_Quant_Fin"
      ],
      "execution_count": null,
      "outputs": []
    },
    {
      "cell_type": "code",
      "metadata": {
        "id": "1hR4cuKADrhL",
        "colab_type": "code",
        "colab": {}
      },
      "source": [
        "def labelize(preds):\n",
        "    for i in range(len(preds)):\n",
        "        if preds[i]>=0.5:\n",
        "            preds[i]=1\n",
        "        else:\n",
        "            preds[i]=0\n",
        "    return preds"
      ],
      "execution_count": null,
      "outputs": []
    },
    {
      "cell_type": "code",
      "metadata": {
        "id": "ggSDjtND6UFs",
        "colab_type": "code",
        "colab": {}
      },
      "source": [
        "label_Comp_Sci = labelize(preds_Comp_Sci_copy)\n",
        "label_Physics = labelize(preds_Physics_copy)\n",
        "label_Maths = labelize(preds_Mathscopy)\n",
        "label_Stats = labelize(preds_Stats_copy)\n",
        "label_Quant_Bio = labelize(preds_Quant_Bio_copy)\n",
        "label_Quant_Fin = labelize(preds_Quant_Fin_copy)"
      ],
      "execution_count": null,
      "outputs": []
    },
    {
      "cell_type": "code",
      "metadata": {
        "id": "RvKgivbs5Sv2",
        "colab_type": "code",
        "colab": {}
      },
      "source": [
        "predictions = pd.DataFrame(test_df['ID'])\n",
        "predictions['Computer Science'] = pd.DataFrame(label_Comp_Sci)\n",
        "predictions['Physics'] = pd.DataFrame(label_Physics)\n",
        "predictions['Mathematics'] = pd.DataFrame(label_Maths)\n",
        "predictions['Statistics'] = pd.DataFrame(label_Stats)\n",
        "predictions['Quantitative Biology'] = pd.DataFrame(label_Quant_Bio)\n",
        "predictions['Quantitative Finance'] = pd.DataFrame(label_Quant_Fin)"
      ],
      "execution_count": null,
      "outputs": []
    },
    {
      "cell_type": "code",
      "metadata": {
        "id": "AHhDxnEzFbrU",
        "colab_type": "code",
        "colab": {}
      },
      "source": [
        "predictions['Computer Science'] = predictions['Computer Science'].astype(int)\n",
        "predictions['Physics'] = predictions['Physics'].astype(int)\n",
        "predictions['Mathematics'] = predictions['Mathematics'].astype(int)\n",
        "predictions['Statistics'] = predictions['Statistics'].astype(int)\n",
        "predictions['Quantitative Biology'] = predictions['Quantitative Biology'].astype(int)\n",
        "predictions['Quantitative Finance'] = predictions['Quantitative Finance'].astype(int)"
      ],
      "execution_count": null,
      "outputs": []
    },
    {
      "cell_type": "code",
      "metadata": {
        "id": "kOZ2QwlE6z6b",
        "colab_type": "code",
        "colab": {
          "base_uri": "https://localhost:8080/",
          "height": 204
        },
        "outputId": "2f2095da-bbfc-4b38-a6e1-6e22013cfde8"
      },
      "source": [
        "predictions.head()"
      ],
      "execution_count": null,
      "outputs": [
        {
          "output_type": "execute_result",
          "data": {
            "text/html": [
              "<div>\n",
              "<style scoped>\n",
              "    .dataframe tbody tr th:only-of-type {\n",
              "        vertical-align: middle;\n",
              "    }\n",
              "\n",
              "    .dataframe tbody tr th {\n",
              "        vertical-align: top;\n",
              "    }\n",
              "\n",
              "    .dataframe thead th {\n",
              "        text-align: right;\n",
              "    }\n",
              "</style>\n",
              "<table border=\"1\" class=\"dataframe\">\n",
              "  <thead>\n",
              "    <tr style=\"text-align: right;\">\n",
              "      <th></th>\n",
              "      <th>ID</th>\n",
              "      <th>Computer Science</th>\n",
              "      <th>Physics</th>\n",
              "      <th>Mathematics</th>\n",
              "      <th>Statistics</th>\n",
              "      <th>Quantitative Biology</th>\n",
              "      <th>Quantitative Finance</th>\n",
              "    </tr>\n",
              "  </thead>\n",
              "  <tbody>\n",
              "    <tr>\n",
              "      <th>0</th>\n",
              "      <td>20973</td>\n",
              "      <td>0</td>\n",
              "      <td>0</td>\n",
              "      <td>0</td>\n",
              "      <td>1</td>\n",
              "      <td>0</td>\n",
              "      <td>0</td>\n",
              "    </tr>\n",
              "    <tr>\n",
              "      <th>1</th>\n",
              "      <td>20974</td>\n",
              "      <td>0</td>\n",
              "      <td>1</td>\n",
              "      <td>0</td>\n",
              "      <td>0</td>\n",
              "      <td>0</td>\n",
              "      <td>0</td>\n",
              "    </tr>\n",
              "    <tr>\n",
              "      <th>2</th>\n",
              "      <td>20975</td>\n",
              "      <td>1</td>\n",
              "      <td>0</td>\n",
              "      <td>1</td>\n",
              "      <td>0</td>\n",
              "      <td>0</td>\n",
              "      <td>0</td>\n",
              "    </tr>\n",
              "    <tr>\n",
              "      <th>3</th>\n",
              "      <td>20976</td>\n",
              "      <td>0</td>\n",
              "      <td>1</td>\n",
              "      <td>0</td>\n",
              "      <td>0</td>\n",
              "      <td>0</td>\n",
              "      <td>0</td>\n",
              "    </tr>\n",
              "    <tr>\n",
              "      <th>4</th>\n",
              "      <td>20977</td>\n",
              "      <td>1</td>\n",
              "      <td>0</td>\n",
              "      <td>0</td>\n",
              "      <td>0</td>\n",
              "      <td>0</td>\n",
              "      <td>0</td>\n",
              "    </tr>\n",
              "  </tbody>\n",
              "</table>\n",
              "</div>"
            ],
            "text/plain": [
              "      ID  Computer Science  ...  Quantitative Biology  Quantitative Finance\n",
              "0  20973                 0  ...                     0                     0\n",
              "1  20974                 0  ...                     0                     0\n",
              "2  20975                 1  ...                     0                     0\n",
              "3  20976                 0  ...                     0                     0\n",
              "4  20977                 1  ...                     0                     0\n",
              "\n",
              "[5 rows x 7 columns]"
            ]
          },
          "metadata": {
            "tags": []
          },
          "execution_count": 24
        }
      ]
    },
    {
      "cell_type": "code",
      "metadata": {
        "id": "IO4z9nZpGAy7",
        "colab_type": "code",
        "colab": {}
      },
      "source": [
        "predictions.to_csv(\"preds_2nd_Deeper.csv\",index=False)"
      ],
      "execution_count": null,
      "outputs": []
    },
    {
      "cell_type": "markdown",
      "metadata": {
        "id": "FXmZ9ibPD0sQ",
        "colab_type": "text"
      },
      "source": [
        "# Drop"
      ]
    },
    {
      "cell_type": "code",
      "metadata": {
        "id": "7DtcrK0yci5j",
        "colab_type": "code",
        "colab": {}
      },
      "source": [
        "train_df['Labels'] = 1*train_df['Computer Science']+2*train_df['Physics']+3*train_df['Mathematics']\n",
        "train_df['Labels']+= 4*train_df['Statistics']+5*train_df['Quantitative Biology']+6*train_df['Quantitative Finance']"
      ],
      "execution_count": null,
      "outputs": []
    },
    {
      "cell_type": "code",
      "metadata": {
        "id": "xOV6g6wNdvCg",
        "colab_type": "code",
        "colab": {}
      },
      "source": [
        "train_df.describe()"
      ],
      "execution_count": null,
      "outputs": []
    },
    {
      "cell_type": "code",
      "metadata": {
        "id": "_NTc--jkd830",
        "colab_type": "code",
        "colab": {}
      },
      "source": [
        "print(train_df['Computer Science'].sum())\n",
        "print(train_df['Physics'].sum())\n",
        "print(train_df['Mathematics'].sum())\n",
        "print(train_df['Statistics'].sum())\n",
        "print(train_df['Quantitative Biology'].sum())\n",
        "print(train_df['Quantitative Finance'].sum())"
      ],
      "execution_count": null,
      "outputs": []
    },
    {
      "cell_type": "code",
      "metadata": {
        "id": "dIZiflVdd0-2",
        "colab_type": "code",
        "colab": {}
      },
      "source": [
        "train_df_copy = train_df.copy()"
      ],
      "execution_count": null,
      "outputs": []
    },
    {
      "cell_type": "code",
      "metadata": {
        "id": "MAQeCvTBeLkc",
        "colab_type": "code",
        "colab": {}
      },
      "source": [
        "train_df_copy = train_df.drop(columns=['Computer Science','Physics','Mathematics','Statistics','Quantitative Biology','Quantitative Finance'])"
      ],
      "execution_count": null,
      "outputs": []
    },
    {
      "cell_type": "code",
      "metadata": {
        "id": "vyfKAXJXfAsK",
        "colab_type": "code",
        "colab": {}
      },
      "source": [
        "train_df_copy.info()"
      ],
      "execution_count": null,
      "outputs": []
    },
    {
      "cell_type": "code",
      "metadata": {
        "id": "-ParKitRfEqp",
        "colab_type": "code",
        "colab": {}
      },
      "source": [
        "train_df_copy['String']= train_df_copy[\"TITLE\"].str.cat(train_df_copy['ABSTRACT'], sep =\" using \")"
      ],
      "execution_count": null,
      "outputs": []
    },
    {
      "cell_type": "code",
      "metadata": {
        "id": "vOrGu_iEfyT_",
        "colab_type": "code",
        "colab": {}
      },
      "source": [
        "print(train_df_copy['String'][0])"
      ],
      "execution_count": null,
      "outputs": []
    },
    {
      "cell_type": "code",
      "metadata": {
        "id": "z3pqGzQogZf2",
        "colab_type": "code",
        "colab": {}
      },
      "source": [
        "train_df_copy = train_df_copy.drop(columns=['TITLE','ID','ABSTRACT'])"
      ],
      "execution_count": null,
      "outputs": []
    },
    {
      "cell_type": "code",
      "metadata": {
        "id": "h2UfMMP4goHy",
        "colab_type": "code",
        "colab": {}
      },
      "source": [
        "train_df_copy.head()"
      ],
      "execution_count": null,
      "outputs": []
    },
    {
      "cell_type": "code",
      "metadata": {
        "id": "L4jCNGvM44bJ",
        "colab_type": "code",
        "colab": {}
      },
      "source": [
        "title_df = train_df_copy.drop(columns=['ID','ABSTRACT'])"
      ],
      "execution_count": null,
      "outputs": []
    },
    {
      "cell_type": "code",
      "metadata": {
        "id": "dbd34tRh3tUk",
        "colab_type": "code",
        "colab": {}
      },
      "source": [
        "strings = train_df_copy['TITLE'].tolist()"
      ],
      "execution_count": null,
      "outputs": []
    },
    {
      "cell_type": "code",
      "metadata": {
        "id": "wlMjfmXEf2Ch",
        "colab_type": "code",
        "colab": {}
      },
      "source": [
        "from tensorflow.keras.preprocessing.text import Tokenizer\n",
        "from tensorflow.keras.preprocessing.sequence import pad_sequences"
      ],
      "execution_count": null,
      "outputs": []
    },
    {
      "cell_type": "code",
      "metadata": {
        "id": "kLy2LxRmgVmy",
        "colab_type": "code",
        "colab": {}
      },
      "source": [
        "tokenizer = Tokenizer(num_words = 10000, oov_token=\"<OOV>\")\n",
        "tokenizer.fit_on_texts(strings)"
      ],
      "execution_count": null,
      "outputs": []
    },
    {
      "cell_type": "code",
      "metadata": {
        "id": "nPD1YcAfgyW5",
        "colab_type": "code",
        "colab": {}
      },
      "source": [
        "words_index = tokenizer.word_index\n",
        "print(words_index)"
      ],
      "execution_count": null,
      "outputs": []
    },
    {
      "cell_type": "code",
      "metadata": {
        "id": "-bAqzgB2g2m8",
        "colab_type": "code",
        "colab": {}
      },
      "source": [
        "train_df.head()\n"
      ],
      "execution_count": null,
      "outputs": []
    },
    {
      "cell_type": "code",
      "metadata": {
        "id": "L0v3gdwj4jxZ",
        "colab_type": "code",
        "colab": {}
      },
      "source": [
        ""
      ],
      "execution_count": null,
      "outputs": []
    }
  ]
}